{
 "cells": [
  {
   "cell_type": "markdown",
   "metadata": {},
   "source": [
    "# Week 2 Day 8 Wednesday Main Exercises - **Recursion**\n"
   ]
  },
  {
   "cell_type": "markdown",
   "metadata": {},
   "source": [
    "# Recap of Recursion\n",
    "\n",
    "In essence, **recursion** is a method of solving problems where the overall solution depends on *solutions to smaller instances* of the same problem (subproblems). In the context of programming, this would involve *a function calling itself* with different arguments that describe the subproblem.\n",
    "\n",
    "The basic structure of a recursive function is:\n",
    "\n",
    "```\n",
    "def recursive_function(parameters):\n",
    "    if base_case_condition(parameters):\n",
    "        return base_case_value\n",
    "    return recursive_function(modified_parameters)\n",
    "```\n",
    "\n",
    "Remember, although recursion can be an effective approach for many problems, it's not always the best choice. Recursive solutions are usually short to write, though often less efficient than iterative solutions (i.e. those that use `for` or `while` loops).\n",
    "\n",
    "Functions in Python have a recursion limit, usually set to 1000. If you exceed this limit, Python will raise a RecursionError. You can check your recursion limit with `sys.getrecursionlimit()`, and change it with `sys.setrecursionlimit()`, but it's generally not a good idea to change the limit. \n",
    "\n",
    "### Unit tests!\n",
    "\n",
    "For the following problems, feel free (and we strongly encourage you) to add your own test cases. We have provided a few test cases (e.g. `sumAll([1, 2, 3]) == 6` for Q1), but you should add more to ensure your code is working properly.\n"
   ]
  },
  {
   "cell_type": "markdown",
   "metadata": {},
   "source": [
    "## Question 0: Warm-Up\n",
    "Look at this recursive function `repeatPrint()`. Notice how there are no loops!"
   ]
  },
  {
   "cell_type": "code",
   "execution_count": 1,
   "metadata": {},
   "outputs": [
    {
     "name": "stdout",
     "output_type": "stream",
     "text": [
      "Hello AddisCoder\n",
      "Hello AddisCoder\n",
      "Hello AddisCoder\n",
      "Recursion is the best\n",
      "Recursion is the best\n",
      "Recursion is the best\n",
      "Recursion is the best\n",
      "Recursion is the best\n",
      "Recursion is the best\n",
      "Recursion is the best\n",
      "Recursion is the best\n"
     ]
    }
   ],
   "source": [
    "def repeatPrint(text, howManyTimes):\n",
    "    if howManyTimes == 0:\n",
    "        return\n",
    "    else:\n",
    "        print(text)\n",
    "        repeatPrint(text, howManyTimes - 1)\n",
    "\n",
    "\n",
    "repeatPrint('Hello AddisCoder', 3)\n",
    "repeatPrint('Recursion is the best', 8)"
   ]
  },
  {
   "cell_type": "markdown",
   "metadata": {},
   "source": [
    "#### 0.1\n",
    "What is the recursive case for `repeatPrint()`? Please use English."
   ]
  },
  {
   "cell_type": "code",
   "execution_count": 2,
   "metadata": {},
   "outputs": [],
   "source": [
    "# recursive case is a branch of the conditional statement in a recursive function that results in a recursive call.\n",
    "# for the above the recursive case is: repeatPrint(text, howManyTimes - 1)"
   ]
  },
  {
   "cell_type": "markdown",
   "metadata": {},
   "source": [
    "#### 0.2 \n",
    "What is the base case for `repeatPrint()`? Please use English. "
   ]
  },
  {
   "cell_type": "code",
   "execution_count": 3,
   "metadata": {},
   "outputs": [],
   "source": [
    "# base case is a branch of the conditional statement in a recursive function that does not result in a recursive call.\n",
    "# for the above the base case is: if howManyTimes == 0:"
   ]
  },
  {
   "cell_type": "markdown",
   "metadata": {},
   "source": [
    "## Question 1    \n",
    "\n",
    "Consider a recursive function called `sumAll(lst)`. \n",
    "* It takes a list of numbers, `lst`, as input.\n",
    "* It returns the sum of the list.\n",
    "\n",
    "For example:\n",
    "\n",
    "```\n",
    "sumAll([1, 1, 1]) == 3\n",
    "sumAll([1, 2, 3]) == 6\n",
    "sumAll([]) == 0\n",
    "sumAll([1, -1]) == 0\n",
    "```\n",
    "\n",
    "#### 1.1\n",
    "What is the recursive case for `sumAll()`? Describe your answer using English."
   ]
  },
  {
   "cell_type": "code",
   "execution_count": 4,
   "metadata": {},
   "outputs": [],
   "source": [
    "# Describe your answer in English"
   ]
  },
  {
   "cell_type": "markdown",
   "metadata": {},
   "source": [
    "#### 1.2\n",
    "What is the base case for `sumAll()`? Use English."
   ]
  },
  {
   "cell_type": "code",
   "execution_count": 5,
   "metadata": {},
   "outputs": [],
   "source": [
    "# Describe your answer in English"
   ]
  },
  {
   "cell_type": "markdown",
   "metadata": {},
   "source": [
    "#### 1.3\n",
    "Use your base case and recursive case to write a `sumAll()` function"
   ]
  },
  {
   "cell_type": "code",
   "execution_count": 6,
   "metadata": {},
   "outputs": [
    {
     "name": "stdout",
     "output_type": "stream",
     "text": [
      "False\n",
      "False\n",
      "False\n",
      "False\n"
     ]
    }
   ],
   "source": [
    "def sumAll(lst):\n",
    "    # YOUR ANSWER HERE\n",
    "    pass\n",
    "\n",
    "# After you finish, these should all print True\n",
    "print(sumAll([1, 1, 1]) == 3)\n",
    "print(sumAll([1, 2, 3]) == 6)\n",
    "print(sumAll([]) == 0)\n",
    "print(sumAll([1, -1]) == 0)"
   ]
  },
  {
   "cell_type": "markdown",
   "metadata": {},
   "source": [
    "## Question 2\n",
    "Consider a recursive function called `numTimes(s, letter)`:\n",
    "* It takes a string `s` and a single letter `letter`.\n",
    "* It returns how many times `letter` appears in `s`.\n",
    "\n",
    "For example:\n",
    "\n",
    "```\n",
    "numTimes('aaabbaaab', 'b') == 3\n",
    "numTimes('aaabbaaab', 'a') == 6\n",
    "numTimes('c', 'c') == 1\n",
    "numTimes('abcd', 'e') == 0\n",
    "numTimes('', 'a') == 0\n",
    "```\n",
    "\n",
    "#### 2.1\n",
    "What is the recursive case for `numTimes()`? "
   ]
  },
  {
   "cell_type": "code",
   "execution_count": 7,
   "metadata": {},
   "outputs": [],
   "source": [
    "# Describe your answer in English"
   ]
  },
  {
   "cell_type": "markdown",
   "metadata": {},
   "source": [
    "#### 2.2\n",
    "What is the base case for `numTimes()`?"
   ]
  },
  {
   "cell_type": "code",
   "execution_count": 8,
   "metadata": {},
   "outputs": [],
   "source": [
    "# Describe your answer in English"
   ]
  },
  {
   "cell_type": "markdown",
   "metadata": {},
   "source": [
    "#### 2.3\n",
    "Write a `numTimes()` function using your base and recursive cases. "
   ]
  },
  {
   "cell_type": "code",
   "execution_count": 9,
   "metadata": {},
   "outputs": [
    {
     "name": "stdout",
     "output_type": "stream",
     "text": [
      "False\n",
      "False\n",
      "False\n",
      "False\n",
      "False\n"
     ]
    }
   ],
   "source": [
    "def numTimes(s, letter):\n",
    "    # YOUR ANSWER HERE\n",
    "    pass\n",
    "\n",
    "# After you finish, these should all print True\n",
    "print(numTimes('aaabbaaab', 'b') == 3)\n",
    "print(numTimes('aaabbaaab', 'a') == 6)\n",
    "print(numTimes('c', 'c') == 1)\n",
    "print(numTimes('abcd', 'e') == 0)\n",
    "print(numTimes('', 'a') == 0)"
   ]
  },
  {
   "cell_type": "markdown",
   "metadata": {},
   "source": [
    "## Question 3\n",
    "Use recursion to write an exponential function, `exp(a, b)`, that calculates $a^b$. \n",
    "\n",
    "Some examples: \n",
    "\n",
    "```\n",
    "exp(5, 2)   == 25\n",
    "exp(5, 3)   == 125\n",
    "exp(2, 3)   == 8\n",
    "exp(1, 100) == 1\n",
    "exp(5, 0)   == 1\n",
    "exp(123, 0) == 1\n",
    "```\n",
    "\n",
    "Assume: \n",
    "\n",
    "* $a$ and $b$ are integers.\n",
    "* $a \\ge 1$\n",
    "* $b \\ge 0$\n",
    "\n",
    "Under these assumptions, we know two things about $a^b$:\n",
    "1. $a^0 = 1$\n",
    "2. $a^b = a \\cdot a^{b-1}$"
   ]
  },
  {
   "cell_type": "markdown",
   "metadata": {},
   "source": [
    "#### 3.1\n",
    "Looking at the math above, what is the recursive case for `exp(a, b)`?"
   ]
  },
  {
   "cell_type": "code",
   "execution_count": 10,
   "metadata": {},
   "outputs": [],
   "source": [
    "# Describe your answer in English"
   ]
  },
  {
   "cell_type": "markdown",
   "metadata": {},
   "source": [
    "#### 3.2\n",
    "What is the base case for `exp(a, b)`?"
   ]
  },
  {
   "cell_type": "code",
   "execution_count": 11,
   "metadata": {},
   "outputs": [],
   "source": [
    "# Describe your answer in English"
   ]
  },
  {
   "cell_type": "markdown",
   "metadata": {},
   "source": [
    "#### 3.3 \n",
    "Write code for `exp(a, b)`"
   ]
  },
  {
   "cell_type": "code",
   "execution_count": 12,
   "metadata": {},
   "outputs": [
    {
     "name": "stdout",
     "output_type": "stream",
     "text": [
      "False\n",
      "False\n",
      "False\n",
      "False\n",
      "False\n",
      "False\n"
     ]
    }
   ],
   "source": [
    "def exp(a, b):\n",
    "    # YOUR ANSWER HERE\n",
    "    pass\n",
    "\n",
    "\n",
    "# After you finish, these should all print True\n",
    "print(exp(5, 2) == 25)\n",
    "print(exp(5, 3) == 125)\n",
    "print(exp(2, 3) == 8)\n",
    "print(exp(1, 100) == 1)\n",
    "print(exp(5, 0) == 1)\n",
    "print(exp(171, 0) == 1)"
   ]
  },
  {
   "cell_type": "markdown",
   "metadata": {},
   "source": [
    "## Question 4\n",
    "Make a recursive function called `reverse(s)` that takes a string, `s`, and reverses it.\n",
    "\n",
    "For example: \n",
    "\n",
    "```\n",
    "reverse('abc') == 'cba'\n",
    "reverse('ccc') == 'ccc'\n",
    "reverse('this is a long string') == 'gnirts gnol a si siht'\n",
    "reverse('') == ''\n",
    "```"
   ]
  },
  {
   "cell_type": "markdown",
   "metadata": {},
   "source": [
    "#### 4.1\n",
    "What is the recursive case for `reverse(s)`? "
   ]
  },
  {
   "cell_type": "code",
   "execution_count": 13,
   "metadata": {},
   "outputs": [],
   "source": [
    "# Describe your answer in English"
   ]
  },
  {
   "cell_type": "markdown",
   "metadata": {},
   "source": [
    "#### 4.2 \n",
    "What is the base case for `reverse(s)`?"
   ]
  },
  {
   "cell_type": "code",
   "execution_count": 14,
   "metadata": {},
   "outputs": [],
   "source": [
    "# Describe your answer in English"
   ]
  },
  {
   "cell_type": "markdown",
   "metadata": {},
   "source": [
    "#### 4.3\n",
    "Write code for `reverse(s)`"
   ]
  },
  {
   "cell_type": "code",
   "execution_count": 15,
   "metadata": {},
   "outputs": [
    {
     "name": "stdout",
     "output_type": "stream",
     "text": [
      "False\n",
      "False\n",
      "False\n",
      "False\n"
     ]
    }
   ],
   "source": [
    "def reverse(s):\n",
    "    # YOUR ANSWER HERE\n",
    "    pass\n",
    "\n",
    "\n",
    "# After you finish, these should all print True\n",
    "print(reverse('abc') == 'cba')\n",
    "print(reverse('ccc') == 'ccc')\n",
    "print(reverse('this is a long string') == 'gnirts gnol a si siht')\n",
    "print(reverse('') == '')"
   ]
  },
  {
   "cell_type": "markdown",
   "metadata": {},
   "source": [
    "## Question 5\n",
    "Define a recursive function `removeLetter(s, letter)` which: \n",
    "* Takes a string `s` and a single character `letter`.\n",
    "* Returns the string back without the given letter."
   ]
  },
  {
   "cell_type": "code",
   "execution_count": 16,
   "metadata": {},
   "outputs": [
    {
     "name": "stdout",
     "output_type": "stream",
     "text": [
      "False\n",
      "False\n",
      "False\n",
      "False\n",
      "False\n"
     ]
    }
   ],
   "source": [
    "def removeLetter(s, letter):\n",
    "    # YOUR ANSWER HERE\n",
    "    pass\n",
    "\n",
    "# After you finish, these should all print True\n",
    "print(removeLetter('abc', 'a') == 'bc')\n",
    "print(removeLetter('abaca', 'a') == 'bc')\n",
    "print(removeLetter('abc', 'd') == 'abc')\n",
    "print(removeLetter('', 'a') == '')\n",
    "print(removeLetter('letter', 't') == 'leer')"
   ]
  },
  {
   "cell_type": "markdown",
   "metadata": {},
   "source": [
    "## Question 6\n",
    "\n",
    "Define a recursive function called `sumDigits(n)` which:\n",
    "1. Takes an int `n` as an argument. Assume `n >= 0`. \n",
    "2. Returns the sum of the digits of `n`. For example: \n",
    "```\n",
    "sumDigits(111) == 3   # because 1 + 1 + 1 == 3\n",
    "sumDigits(123) == 6   # because 1 + 2 + 3 == 6\n",
    "sumDigits(505) == 10  # because 5 + 0 + 5 == 10\n",
    "```\n",
    "Hint: use the `%` and `//` operators"
   ]
  },
  {
   "cell_type": "code",
   "execution_count": 17,
   "metadata": {},
   "outputs": [
    {
     "name": "stdout",
     "output_type": "stream",
     "text": [
      "False\n",
      "False\n",
      "False\n",
      "False\n",
      "False\n"
     ]
    }
   ],
   "source": [
    "def sumDigits(n):\n",
    "    # YOUR ANSWER HERE\n",
    "    pass\n",
    "\n",
    "# After you finish, these should all print True\n",
    "print(sumDigits(111) == 3)\n",
    "print(sumDigits(123) == 6)\n",
    "print(sumDigits(505) == 10)\n",
    "print(sumDigits(123456789) == 45)\n",
    "print(sumDigits(0) == 0)"
   ]
  },
  {
   "cell_type": "code",
   "execution_count": null,
   "metadata": {},
   "outputs": [],
   "source": []
  },
  {
   "cell_type": "markdown",
   "metadata": {},
   "source": [
    "## Question 7\n",
    "Consider a recursive function called `factorial(num)`:\n",
    "* It takes a positive integer num\n",
    "* It returns the factorial of that number.\n",
    "\n",
    "For example:\n",
    "\n",
    "```\n",
    "factorial(0) == 0\n",
    "factorial(1) == 1\n",
    "factorial(3) == 6\n",
    "factorial(5) == 120\n",
    "factorial(10) == 3628800\n",
    "```\n",
    "\n",
    "Implement the recursive function `factorial(num)`.\n"
   ]
  },
  {
   "cell_type": "code",
   "execution_count": 18,
   "metadata": {},
   "outputs": [
    {
     "name": "stdout",
     "output_type": "stream",
     "text": [
      "Test passed: False\n",
      "Test passed: False\n",
      "Test passed: False\n",
      "Test passed: False\n",
      "Test passed: False\n"
     ]
    }
   ],
   "source": [
    "def factorial(num):\n",
    "    # your code here\n",
    "    pass\n",
    "\n",
    "# after you finish, these all should print true\n",
    "print('Test passed:', factorial(0) == 1)\n",
    "print('Test passed:', factorial(1) == 1)\n",
    "print('Test passed:', factorial(2) == 2)\n",
    "print('Test passed:', factorial(3) == 6)\n",
    "print('Test passed:', factorial(5) == 120)"
   ]
  },
  {
   "cell_type": "code",
   "execution_count": null,
   "metadata": {},
   "outputs": [],
   "source": []
  },
  {
   "cell_type": "markdown",
   "metadata": {},
   "source": [
    "## Question 8\n",
    "Consider a recursive function called `palindromeCheck(word)`:\n",
    "* It takes a string word.\n",
    "* It returns True if the word is a palindrome, and False otherwise.\n",
    "\n",
    "For example:\n",
    "\n",
    "```\n",
    "palindromeCheck(\"racecar\") == True\n",
    "palindromeCheck(\"hello\") == False\n",
    "palindromeCheck(\"level\") == True\n",
    "palindromeCheck(\"python\") == False\n",
    "```\n",
    "\n",
    "Implement `palindromeCheck(word)`.\n"
   ]
  },
  {
   "cell_type": "code",
   "execution_count": 19,
   "metadata": {},
   "outputs": [
    {
     "name": "stdout",
     "output_type": "stream",
     "text": [
      "Test passed: False\n",
      "Test passed: False\n",
      "Test passed: False\n",
      "Test passed: False\n"
     ]
    }
   ],
   "source": [
    "def palindromeCheck(n):\n",
    "    # your code here\n",
    "    pass\n",
    "\n",
    "# after you finish, these all should print true\n",
    "print('Test passed:', palindromeCheck(\"racecar\") == True)\n",
    "print('Test passed:', palindromeCheck(\"hello\") == False)\n",
    "print('Test passed:', palindromeCheck(\"level\") == True)\n",
    "print('Test passed:', palindromeCheck(\"python\") == False)"
   ]
  },
  {
   "cell_type": "markdown",
   "metadata": {},
   "source": []
  },
  {
   "cell_type": "markdown",
   "metadata": {},
   "source": [
    "## Question 9\n",
    "Consider a recursive function called `countDigits(n)`:\n",
    "* It takes a positive integer `n`.\n",
    "* It returns the count of digits in `n`.\n",
    "\n",
    "For example:\n",
    "```\n",
    "countDigits(0) == 1\n",
    "countDigits(123) == 3\n",
    "countDigits(987654321) == 9\n",
    "```\n",
    "\n",
    "Implement `countDigits(n)`.\n"
   ]
  },
  {
   "cell_type": "code",
   "execution_count": 20,
   "metadata": {},
   "outputs": [
    {
     "name": "stdout",
     "output_type": "stream",
     "text": [
      "Test passed: False\n",
      "Test passed: False\n",
      "Test passed: False\n"
     ]
    }
   ],
   "source": [
    "def countDigits(n):\n",
    "    # your code here\n",
    "    pass\n",
    "\n",
    "# after you finish, these all should print true\n",
    "print('Test passed:', countDigits(0) == 1)\n",
    "print('Test passed:', countDigits(123) == 3)\n",
    "print('Test passed:', countDigits(987654321) == 9)"
   ]
  },
  {
   "cell_type": "markdown",
   "metadata": {},
   "source": []
  },
  {
   "cell_type": "markdown",
   "metadata": {},
   "source": [
    "## Question 10\n",
    "Consider a recursive function called `sumRange(a, b)`:\n",
    "* It takes two positive integers a and b.\n",
    "* It then returns the sum of the numbers in between a and b, including a and b.\n",
    "\n",
    "For example:\n",
    "\n",
    "```\n",
    "sumRange(0, 0) == 0\n",
    "sumRange(1, 5) == 15    # (1 + 2 + 3 + 4 + 5)\n",
    "sumRange(10, 15) == 75  # (10 + 11 + 12 + 13 + 14 + 15)\n",
    "sumRange(5, 10) == 45   # (5 + 6 + 7 + 8 + 9 + 10)\n",
    "\n",
    "```\n",
    "\n",
    "Implement `sumRange(a, b)`."
   ]
  },
  {
   "cell_type": "code",
   "execution_count": 21,
   "metadata": {},
   "outputs": [
    {
     "name": "stdout",
     "output_type": "stream",
     "text": [
      "Test passed: False\n",
      "Test passed: False\n",
      "Test passed: False\n",
      "Test passed: False\n"
     ]
    }
   ],
   "source": [
    "def sumRange(a, b):\n",
    "    # your code here\n",
    "    pass\n",
    "\n",
    "\n",
    "# after you finish, these all should print true\n",
    "print('Test passed:', sumRange(0, 0) == 0)\n",
    "print('Test passed:', sumRange(1, 5) == 15)\n",
    "print('Test passed:', sumRange(10, 15) == 75)\n",
    "print('Test passed:', sumRange(5, 10) == 45)"
   ]
  },
  {
   "cell_type": "markdown",
   "metadata": {},
   "source": []
  }
 ],
 "metadata": {
  "kernelspec": {
   "display_name": "Python 3 (ipykernel)",
   "language": "python",
   "name": "python3"
  },
  "language_info": {
   "codemirror_mode": {
    "name": "ipython",
    "version": 3
   },
   "file_extension": ".py",
   "mimetype": "text/x-python",
   "name": "python",
   "nbconvert_exporter": "python",
   "pygments_lexer": "ipython3",
   "version": "3.10.12"
  }
 },
 "nbformat": 4,
 "nbformat_minor": 4
}
