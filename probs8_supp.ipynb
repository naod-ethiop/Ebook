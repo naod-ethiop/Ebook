{
 "cells": [
  {
   "cell_type": "markdown",
   "metadata": {},
   "source": [
    "# Week 2 Day 8 Wednesday Supplemental Exercises - **Recursion**"
   ]
  },
  {
   "cell_type": "markdown",
   "metadata": {},
   "source": [
    "Please attempt these only after you finished the main notebook!"
   ]
  },
  {
   "cell_type": "markdown",
   "metadata": {},
   "source": [
    "## Question 1\n",
    "Write a recursive function `gcd(a, b)` that:\n",
    "1. Takes two positive integers `a` and `b` as input.\n",
    "2. Returns the **greatest common divisor** of `a` and `b`.\n",
    "\n",
    "For example:\n",
    "```\n",
    "gcd(15, 10)   == 5  # nothing bigger than 5 divides 15 and 10.\n",
    "gcd(24, 36)   == 12\n",
    "gcd(72, 180)  == 36\n",
    "gcd(101, 197) == 1  # 101 and 197 do not share any common factors.\n",
    "gcd(39793, 1) == 1  # gcd(a, 1) == 1 for all positive a.\n",
    "gcd(22, 0)    == 22 # gcd(a, 0) == a for all positive a.\n",
    "```\n",
    "\n",
    "To implement `gcd()`, we will use a recursive algorithm that Euclid discovered in Alexandria, Egypt in 300BC. Here it is:\n",
    "\n",
    "#### Recursive case\n",
    "If $b > 0$,\n",
    "`gcd(a, b) == gcd(b, a % b)`\n",
    "\n",
    "#### Base case\n",
    "`gcd(a, 0) == a`\n",
    "\n",
    "Here is an example of Euclid's algorithm for `gcd(180, 72)`:\n",
    "\n",
    "```\n",
    "# Recursive case: 180 % 72 == 36\n",
    "gcd(180, 72) == gcd(72, 36)\n",
    "\n",
    "# Recursive case: 72 % 36  == 0\n",
    "gcd(72, 36) == gcd(36, 0)\n",
    "\n",
    "# Base case (b == 0)\n",
    "gcd(36, 0) == 36\n",
    "```\n",
    "\n",
    "Result: the greatest common divisor of 180 and 72 is 36.\n",
    "\n",
    "Here is another example, of `gcd(45, 210)`: \n",
    "\n",
    "```\n",
    "# Recursive case: 45 % 210 == 45\n",
    "gcd(45, 210) == gcd(210, 45)\n",
    "\n",
    "# Recursive case: 210 % 45 == 30\n",
    "gcd(210, 45) == gcd(45, 20)\n",
    "\n",
    "# Recursive case: 45 % 30 == 15\n",
    "gcd(45, 30) == gcd(30, 15)\n",
    "\n",
    "# Recursive case: 30 % 15 = 0\n",
    "gcd(30, 15) == gcd(15, 0)\n",
    "\n",
    "# Base case (b == 0)\n",
    "gcd(15, 0) == 15 \n",
    "```\n",
    "\n",
    "Result: the greatest common divisor of 45 and 210 is 15.\n",
    "\n",
    "Task: Implement `gcd()` using Euclid's algorithm described above."
   ]
  },
  {
   "cell_type": "code",
   "execution_count": 1,
   "metadata": {},
   "outputs": [
    {
     "name": "stdout",
     "output_type": "stream",
     "text": [
      "False\n",
      "False\n",
      "False\n",
      "False\n",
      "False\n",
      "False\n"
     ]
    }
   ],
   "source": [
    "def gcd(a, b):\n",
    "    # YOUR ANSWER HERE\n",
    "    pass\n",
    "\n",
    "# After you finish, these should all print True\n",
    "print(gcd(15, 10) == 5)\n",
    "print(gcd(24, 36) == 12)\n",
    "print(gcd(72, 180) == 36)\n",
    "print(gcd(101, 197) == 1)\n",
    "print(gcd(39793, 1) == 1)\n",
    "print(gcd(22, 0) == 22)"
   ]
  },
  {
   "cell_type": "code",
   "execution_count": null,
   "metadata": {},
   "outputs": [],
   "source": []
  },
  {
   "cell_type": "markdown",
   "metadata": {},
   "source": [
    "## Question 2\n",
    "A **permutation** of a list is the same list, but in a different order. \n",
    "\n",
    "For example, `[0, 2, 1]` and `[2, 0, 1]` are both permutations of `[0, 1, 2]`.\n",
    "\n",
    "Write a recursive function `permutations(n)` that takes an integer, `n`, as input, and returns a **sorted** list of all permutations of integers between `0` and `n`. Examples: \n",
    "\n",
    "```\n",
    "permutations(0) == [[0]]\n",
    "\n",
    "permutations(1) == [[0, 1], [1, 0]]\n",
    "\n",
    "permutations(2) == [[0, 1, 2], [0, 2, 1], \n",
    "                    [1, 0, 2], [1, 2, 0], \n",
    "                    [2, 0, 1], [2, 1, 0]]\n",
    "\n",
    "```\n",
    "Hints\n",
    "* `myList.insert(5, 'myItem')` will insert `'myItem'` at position `5` in `myList`.\n",
    "* Use `myList.sort()` to put `myList` in sorted order. Note: `sort()` returns `None`, so use it on its own line of code. \n",
    "* Here, it is OK to use loops too as part of your **recursive solution**.\n"
   ]
  },
  {
   "cell_type": "code",
   "execution_count": 2,
   "metadata": {},
   "outputs": [
    {
     "name": "stdout",
     "output_type": "stream",
     "text": [
      "myList hasn't been sorted yet: [2, 0, 77, 3, 1]\n",
      "Now myList is sorted: [0, 1, 2, 3, 77]\n"
     ]
    }
   ],
   "source": [
    "# Example code to illustrate `insert()` and `sort()`\n",
    "\n",
    "myList = [2, 0, 3, 1]\n",
    "\n",
    "myList.insert(2, 77)  # insert 77 at position 2 in myList\n",
    "print(\"myList hasn't been sorted yet:\", myList)\n",
    "\n",
    "myList.sort()\n",
    "print(\"Now myList is sorted:\", myList)"
   ]
  },
  {
   "cell_type": "markdown",
   "metadata": {},
   "source": [
    "**Task:** Write a recursive `permutations(n)` function. \n",
    "\n",
    "**Remember: it is OK to use loops as part of your recursive solution!**"
   ]
  },
  {
   "cell_type": "code",
   "execution_count": 3,
   "metadata": {},
   "outputs": [
    {
     "name": "stdout",
     "output_type": "stream",
     "text": [
      "False\n",
      "False\n",
      "False\n",
      "False\n"
     ]
    }
   ],
   "source": [
    "def permutations(n):\n",
    "    # YOUR ANSWER HERE\n",
    "    pass\n",
    "\n",
    "# If your code is correct, these should all print True\n",
    "print(permutations(0) == [[0]])\n",
    "print(permutations(1) == [[0, 1], [1, 0]])\n",
    "\n",
    "print(permutations(2) == [[0, 1, 2], [0, 2, 1],\n",
    "                          [1, 0, 2], [1, 2, 0],\n",
    "                          [2, 0, 1], [2, 1, 0]])\n",
    "\n",
    "if permutations(0) != None:\n",
    "    print(len(permutations(6)) == 5040)\n",
    "    print(permutations(6)[3791] == [5, 1, 3, 6, 4, 2, 0])\n",
    "else:\n",
    "    print(False)"
   ]
  },
  {
   "cell_type": "code",
   "execution_count": null,
   "metadata": {},
   "outputs": [],
   "source": []
  },
  {
   "cell_type": "markdown",
   "metadata": {},
   "source": [
    "## Question 3\n",
    "\n",
    "Consider a recursive function called `combinations`. \n",
    "* It takes a list of numbers and a number k.\n",
    "* It returns all the possible combinations of size k.\n",
    "\n",
    "*Combinations of size k refer to the subsets or groupings of elements taken from a given set, where each combination consists of exactly k elements. In other words, it represents the selection of k distinct elements from a larger set, without considering the order of the elements.*\n",
    "\n",
    "For example:\n",
    "\n",
    "```\n",
    "combinations([1, 2, 3], 2) == [[1, 2], [1, 3], [2, 3]]\n",
    "combinations([4, 5, 6], 3) == [[4, 5, 6]]\n",
    "combinations([1, 2, 3, 4], 5) == []\n",
    "```\n",
    "\n",
    "Think about:\n",
    "- What is the recursive case for `combinations()`? Describe your answer using English.\n",
    "- What is the base case for `combinations()`? Describe your answer using English.\n",
    "\n",
    "Implement `combinations()`."
   ]
  },
  {
   "cell_type": "code",
   "execution_count": 4,
   "metadata": {},
   "outputs": [
    {
     "name": "stdout",
     "output_type": "stream",
     "text": [
      "Test passed: False\n",
      "Test passed: False\n",
      "Test passed: False\n"
     ]
    }
   ],
   "source": [
    "def combinations(lst, k):\n",
    "    # TODO: your code here\n",
    "    pass\n",
    "\n",
    "# Test cases\n",
    "print('Test passed:', combinations([1, 2, 3], 2) == [[1, 2], [1, 3], [2, 3]])\n",
    "print('Test passed:', combinations([4, 5, 6], 3) == [[4, 5, 6]])\n",
    "print('Test passed:', combinations([1, 2, 3, 4], 5) == [])"
   ]
  },
  {
   "cell_type": "code",
   "execution_count": null,
   "metadata": {},
   "outputs": [],
   "source": []
  },
  {
   "cell_type": "markdown",
   "metadata": {},
   "source": [
    "## Question 4. Tower of Hanoi (Hard)\n",
    "\n",
    "You may have heard of the game \"Tower of Hanoi\" (see figure below):\n",
    "\n",
    "![](hanoi.jpeg)\n",
    "\n",
    "The goal of the game is to move all the disks from the leftmost peg to the rightmost peg. The middle peg can be used as a helper peg to temporarily hold the disks.\n",
    "\n",
    "There are only two simple rules: \n",
    "1. You can only move one disk at a time.\n",
    "2. You can only place a smaller disk on top of a larger disk.\n",
    "\n",
    "The puzzle starts with `n` disks on the leftmost peg, and the disks are sorted from smallest to largest, with the largest disk on the bottom.\n",
    "\n",
    "Your task is to write a **recursive function** called `hanoi(n, source, helper, target)` that prints out the steps to solve the Tower of Hanoi puzzle.\n",
    "\n",
    "For example:\n",
    "\n",
    "```\n",
    "hanoi(1, \"A\", \"B\", \"C\") \n",
    "# ---> prints \"Move disk 1 from peg A to peg C\"\n",
    "\n",
    "\n",
    "hanoi(2, \"A\", \"B\", \"C\") \n",
    "# ---> prints \"Move disk 1 from peg A to peg B\"\n",
    "              \"Move disk 2 from peg A to peg C\"\n",
    "              \"Move disk 1 from peg B to peg C\"\n",
    "\n",
    "\n",
    "hanoi(3, \"A\", \"B\", \"C\") \n",
    "# ---> prints \"Move disk 1 from peg A to peg C\"\n",
    "              \"Move disk 2 from peg A to peg B\"\n",
    "              \"Move disk 1 from peg C to peg B\"\n",
    "              \"Move disk 3 from peg A to peg C\"\n",
    "              \"Move disk 1 from peg B to peg A\"\n",
    "              \"Move disk 2 from peg B to peg C\"\n",
    "              \"Move disk 1 from peg A to peg C\"\n",
    "```\n",
    "\n",
    "**Hint:** Think about what the base case and recursive case would be; the recursive case should reduce the problem to a smaller version of itself (in this problem, a Tower of Hanoi with fewer disks).\n",
    "\n"
   ]
  },
  {
   "cell_type": "code",
   "execution_count": 5,
   "metadata": {},
   "outputs": [
    {
     "name": "stdout",
     "output_type": "stream",
     "text": [
      "For 1 disks:\n",
      "\n",
      "For 2 disks:\n",
      "\n",
      "For 3 disks:\n",
      "\n"
     ]
    }
   ],
   "source": [
    "def hanoi(n, source, helper, target):\n",
    "    # Hint: the base case is implemented below for you\n",
    "    if n == 0:\n",
    "        return\n",
    "    \n",
    "    # TODO: your code for the recursive here\n",
    "    # NOTE: you don't need to return anything from the function;\n",
    "    # just print out the individual moves\n",
    "\n",
    "# Test cases\n",
    "for tower_height in range(1, 4):\n",
    "    print('For', tower_height, 'disks:')\n",
    "    hanoi(tower_height, 'A', 'B', 'C')\n",
    "    print()\n"
   ]
  },
  {
   "cell_type": "code",
   "execution_count": null,
   "metadata": {},
   "outputs": [],
   "source": []
  },
  {
   "cell_type": "markdown",
   "metadata": {},
   "source": [
    "# Question 5 (Hard)\n",
    "\n",
    "Write a recursive function, `permuteString(s)`, that returns all possible permutations of the string `s`.\n",
    "\n",
    "For example:\n",
    "\n",
    "```\n",
    "permuteString(\"ab\") == [\"ab\", \"ba\"]\n",
    "permuteString(\"abc\") == [\"abc\", \"acb\", \"bac\", \"bca\", \"cab\", \"cba\"]\n",
    "```\n",
    "\n",
    "Implement `permuteString(s)` recursively.\n"
   ]
  },
  {
   "cell_type": "code",
   "execution_count": 6,
   "metadata": {},
   "outputs": [
    {
     "name": "stdout",
     "output_type": "stream",
     "text": [
      "Test passed: False\n",
      "Test passed: False\n",
      "Test passed: False\n"
     ]
    }
   ],
   "source": [
    "def permuteString(s):\n",
    "    # your code here\n",
    "    return []\n",
    "\n",
    "\n",
    "# after you finish, these all should print true\n",
    "print('Test passed:', set(permuteString(\"ab\")) == set([\"ab\", \"ba\"]))\n",
    "print('Test passed:', set(permuteString(\"abc\")) == set([\"abc\", \"acb\", \"bac\", \"bca\", \"cab\", \"cba\"]))\n",
    "print('Test passed:', set(permuteString(\"aaa\")) == set([\"aaa\"]))\n"
   ]
  },
  {
   "cell_type": "code",
   "execution_count": null,
   "metadata": {},
   "outputs": [],
   "source": []
  }
 ],
 "metadata": {
  "kernelspec": {
   "display_name": "Python 3",
   "language": "python",
   "name": "python3"
  },
  "language_info": {
   "codemirror_mode": {
    "name": "ipython",
    "version": 3
   },
   "file_extension": ".py",
   "mimetype": "text/x-python",
   "name": "python",
   "nbconvert_exporter": "python",
   "pygments_lexer": "ipython3",
   "version": "3.10.12"
  },
  "orig_nbformat": 4
 },
 "nbformat": 4,
 "nbformat_minor": 2
}
